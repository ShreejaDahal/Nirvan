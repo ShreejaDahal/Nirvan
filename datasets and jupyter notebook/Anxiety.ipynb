{
 "cells": [
  {
   "cell_type": "code",
   "execution_count": 1,
   "metadata": {
    "id": "NfZMd0n41fUZ"
   },
   "outputs": [],
   "source": [
    "import pandas as pd\n",
    "import numpy as np\n",
    "from sklearn.tree import DecisionTreeClassifier\n",
    "from sklearn.model_selection import train_test_split\n",
    "import pickle"
   ]
  },
  {
   "cell_type": "code",
   "execution_count": 2,
   "metadata": {
    "colab": {
     "base_uri": "https://localhost:8080/"
    },
    "id": "-XgQ0YBq2AUK",
    "outputId": "08f977ec-5318-42cb-dae7-bc9059eff032"
   },
   "outputs": [
    {
     "name": "stdout",
     "output_type": "stream",
     "text": [
      "<class 'pandas.core.frame.DataFrame'>\n",
      "RangeIndex: 53 entries, 0 to 52\n",
      "Data columns (total 9 columns):\n",
      " #   Column                                             Non-Null Count  Dtype \n",
      "---  ------                                             --------------  ----- \n",
      " 0   Feeling nervous, anxious or on edge                53 non-null     int64 \n",
      " 1   Not being able to stop or control worrying         53 non-null     int64 \n",
      " 2   Worrying too much about different things           53 non-null     int64 \n",
      " 3   Trouble relaxing                                   53 non-null     int64 \n",
      " 4   Being so restless that it is hard to sit stil      53 non-null     int64 \n",
      " 5   Becoming easily annoyed or irritable               53 non-null     int64 \n",
      " 6   Feeling afraid as if something awful might happen  53 non-null     int64 \n",
      " 7   Total_score                                        53 non-null     int64 \n",
      " 8   Diagnosis                                          53 non-null     object\n",
      "dtypes: int64(8), object(1)\n",
      "memory usage: 3.9+ KB\n"
     ]
    }
   ],
   "source": [
    "# Reading the anxiety screening data\n",
    "dataset = pd.read_excel('Anxiety_Screening.xlsx')\n",
    "dataset.info()\n"
   ]
  },
  {
   "cell_type": "code",
   "execution_count": 3,
   "metadata": {
    "colab": {
     "base_uri": "https://localhost:8080/"
    },
    "id": "L8fOqLcC2AjK",
    "outputId": "7a8b3f49-a8c0-4077-cf4e-4856ee135c79"
   },
   "outputs": [],
   "source": [
    "def change(arg):\n",
    "    \"\"\"Changes the arg into numeric value.\n",
    "    \n",
    "    PARAMETERS\n",
    "    -----------\n",
    "    arg\n",
    "        either Minimal Anxiety, Mild Anxiety, Moderate Anxiety, or Severe Anxiety\n",
    "    \n",
    "    RETURNS\n",
    "    ----------\n",
    "    number\n",
    "        either 0,1,2,3\n",
    "    \n",
    "    AUTHOR\n",
    "    ----------\n",
    "    Shreeja Dahal\n",
    "    \n",
    "    DATE\n",
    "    ----------\n",
    "    09/29/2021 8:30 AM\n",
    "    \n",
    "    \"\"\"\n",
    "    if arg == \"Minimal Anxiety\":\n",
    "        return 0\n",
    "    elif arg == 'Mild Anxiety':\n",
    "        return 1\n",
    "    elif arg == 'Moderate Anxiety':\n",
    "        return 2\n",
    "    elif arg == 'Severe Anxiety':\n",
    "        return 3\n",
    "\n",
    "\n",
    "dataset['Diagnosis'] = dataset['Diagnosis'].apply(change)\n",
    "\n"
   ]
  },
  {
   "cell_type": "code",
   "execution_count": 4,
   "metadata": {},
   "outputs": [],
   "source": [
    "# X contains all the variables except the Diagnosis\n",
    "dataset = dataset.drop('Total_score', 1)\n",
    "X = dataset.drop('Diagnosis', 1)\n",
    "# y contains the Diagnosis\n",
    "y = dataset['Diagnosis']\n",
    "# splitting the data into training set and testing set,\n",
    "# 75% into training data and 25% into testing data\n",
    "X_train, X_test, y_train, y_test = train_test_split(X, y, random_state = 47, test_size = 0.25)"
   ]
  },
  {
   "cell_type": "code",
   "execution_count": 5,
   "metadata": {
    "colab": {
     "base_uri": "https://localhost:8080/"
    },
    "id": "q3IB0Ezq2BCl",
    "outputId": "663e019c-1c39-43a3-f864-17fbd4b44486"
   },
   "outputs": [
    {
     "name": "stdout",
     "output_type": "stream",
     "text": [
      "Accuracy score:  0.7142857142857143\n",
      "              precision    recall  f1-score   support\n",
      "\n",
      "           0       1.00      1.00      1.00         2\n",
      "           1       0.67      0.50      0.57         4\n",
      "           2       0.50      0.50      0.50         4\n",
      "           3       0.80      1.00      0.89         4\n",
      "\n",
      "    accuracy                           0.71        14\n",
      "   macro avg       0.74      0.75      0.74        14\n",
      "weighted avg       0.70      0.71      0.70        14\n",
      "\n"
     ]
    }
   ],
   "source": [
    "from sklearn.tree import DecisionTreeClassifier\n",
    "from sklearn.metrics import confusion_matrix, classification_report, accuracy_score\n",
    "from sklearn import tree\n",
    "\n",
    "\n",
    "# If the sample is completely homogeneous the entropy is zero \n",
    "# and if the sample is an equally divided it has entropy of one.\n",
    "clf = tree.DecisionTreeClassifier(criterion = 'entropy')\n",
    "\n",
    "# fitting the training data\n",
    "clf = clf.fit(X_train, y_train)\n",
    "\n",
    "# y_pred is the predicted data\n",
    "y_pred = clf.predict(X_test)\n",
    "\n",
    "#calculating the decision tree accuracy score\n",
    "decisionTree_score = accuracy_score(y_test, y_pred)\n",
    "\n",
    "# Accuracy, Precision, Recall, F-1 score, and support \n",
    "# are factors that measure the performance of a model\n",
    "print(\"Accuracy score: \", decisionTree_score)\n",
    "print(classification_report(y_test, y_pred))"
   ]
  },
  {
   "cell_type": "code",
   "execution_count": 6,
   "metadata": {},
   "outputs": [],
   "source": [
    "# Saving the model as a serialized object pickle\n",
    "# named model_anxiety.pkl\n",
    "with open('model_anxiety.pkl', 'wb') as file:\n",
    "    pickle.dump(clf,file)"
   ]
  },
  {
   "cell_type": "code",
   "execution_count": null,
   "metadata": {},
   "outputs": [],
   "source": []
  }
 ],
 "metadata": {
  "colab": {
   "collapsed_sections": [],
   "name": "Anxiety",
   "provenance": []
  },
  "interpreter": {
   "hash": "39b34c1860031d2449f37180a6c150343cab352050e99c5cea398bcb9bf10b2b"
  },
  "kernelspec": {
   "display_name": "Python 3",
   "language": "python",
   "name": "python3"
  },
  "language_info": {
   "codemirror_mode": {
    "name": "ipython",
    "version": 3
   },
   "file_extension": ".py",
   "mimetype": "text/x-python",
   "name": "python",
   "nbconvert_exporter": "python",
   "pygments_lexer": "ipython3",
   "version": "3.8.8"
  }
 },
 "nbformat": 4,
 "nbformat_minor": 4
}
